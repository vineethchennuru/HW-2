{
 "cells": [
  {
   "cell_type": "markdown",
   "metadata": {},
   "source": [
    "Name : Vineeth Chennuru"
   ]
  },
  {
   "cell_type": "markdown",
   "metadata": {
    "id": "kl4qKEFG9BNa"
   },
   "source": [
    "____\n",
    "____\n",
    "# HW: Classification\n",
    "\n",
    "____\n",
    "Read Chapter 3 of your textbook. We will spend two weeks on this content.\n",
    "\n",
    "Solve Excercise 1 on p. 129 (Third Edition). \n",
    "\n",
    "Recall that, in contrast to the ICAs, HWs and PCAs are done on your own. Be sure to put your name at the top of the notebook before submitting to D2L. \n",
    "\n",
    "____\n",
    "\n",
    "Soon we will discuss your projects in more detail. For this week, let's just get a sense for the size and scope of a project. In this way you can start thinking about whether your ideas fall within the scope of a project for this class. \n",
    "\n",
    "There is one caveat, however. The projects the students do in this class are quite diverse. Certainly they will all fall across the machine learning landscape, but some will involve hardward (e.g., robots and reinforcement learning) or interactivity (e.g, chatbots). As a result, it is not possible to write down one strict set of rules for the projects; instead, try to understand the spirit of the project's goals. Ultimately, this class is about you learning machine learning, not checking boxes to get a grade. \n",
    "\n",
    "With that caveat, turn to Appendix A in your textbook, p. 779 (Third Edition): ***Machine Learning Project Checklist***. Read this appendix; some of the ideas won't yet be familiar to you, but we will cover everything. \n",
    "\n",
    "Finally, open a markdown cell and write a paragraph about what you think your project might be. You are absolutely not locked to anything you write, and you might consider putting three ideas you want to explore over the next few weeks. As most ideas don't work out (not for any fault of your's), having backup plans is useful.\n"
   ]
  },
  {
   "cell_type": "code",
   "execution_count": null,
   "metadata": {},
   "outputs": [],
   "source": []
  },
  {
   "cell_type": "markdown",
   "metadata": {
    "id": "sQGJGent3XOm"
   },
   "source": [
    "____\n",
    "# Streamlit for Web Apps\n",
    "\n",
    "We will use Streamlit to use and build web apps for this course. As mentioned in the lecture, these web apps will serve two purposes: your education and your projects. \n",
    "\n",
    "This week we will begin by exploring the educational aspect by using a Streamlit web app in the ICA this week. For this PCA your main task is to get Streamlit working on your computer in advance. The goal is that you use web apps to train your intuition on machine learning. As we have already seen, there are _many_ moving parts in the machine learning workflow, all working together in a complex way.\n",
    "\n",
    "If you have any issues, please post them on Slack. There are always a few people who run into issues unique to their laptop, and other students might have already solved similar problems on theirs. \n",
    "\n",
    "Your tasks for the PCA are these:\n",
    "* Search through the [Streamlit](https://streamlit.io) website to get comfortable with what is there.\n",
    "* Install Streamlit on your computer.\n",
    "* Ensure that Streamlit works by writing an app: the main webpage gives a very short code called `MyApp.py`. \n",
    "* Watch the first three videos in [this series](https://www.youtube.com/watch?v=ZZ4B0QUHuNc&list=PLtqF5YXg7GLmCvTswG32NqQypOuYkPRUE), and bookmark these videos in case you need them later. (Of course, feel free to watch all of them, which eventually you will want to do. But, we will generally not use Heroku in this class because of its cost; rather, we will deploy directly to Streamlit.)\n",
    "* Other than learning the various tools within Streamlit, the biggest hurdle is getting the `requirements.txt` file set up correctly. This is how Streamlit knows how to set up the Python environment for your particular app. Pay close attention to which files you need and what their purpose is.\n",
    "\n",
    "Again, if you run into any issues, post your questions in Slack. Be sure to give enough background information that other students know enough about what you did to be able to help. \n",
    "\n",
    "\n"
   ]
  },
  {
   "cell_type": "markdown",
   "metadata": {},
   "source": [
    "**Github code link for sample streamlit app** : https://github.com/vineethchennuru/HW-2\n",
    "\n",
    "**Streamlit sample app link** : https://vineethchennuru-hw-2-app-8mo1yw.streamlit.app"
   ]
  }
 ],
 "metadata": {
  "colab": {
   "authorship_tag": "ABX9TyNbuaa54RUlrQGSSxK892WB",
   "provenance": []
  },
  "kernelspec": {
   "display_name": "Python 3 (ipykernel)",
   "language": "python",
   "name": "python3"
  },
  "language_info": {
   "codemirror_mode": {
    "name": "ipython",
    "version": 3
   },
   "file_extension": ".py",
   "mimetype": "text/x-python",
   "name": "python",
   "nbconvert_exporter": "python",
   "pygments_lexer": "ipython3",
   "version": "3.9.12"
  }
 },
 "nbformat": 4,
 "nbformat_minor": 1
}
